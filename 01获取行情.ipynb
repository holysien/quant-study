{
 "cells": [
  {
   "cell_type": "code",
   "execution_count": 1,
   "metadata": {},
   "outputs": [],
   "source": [
    "import ccxt\n",
    "import requests\n",
    "import pandas as pd\n",
    "from datetime import datetime"
   ]
  },
  {
   "cell_type": "code",
   "execution_count": 2,
   "metadata": {},
   "outputs": [
    {
     "name": "stdout",
     "output_type": "stream",
     "text": [
      "['acx', 'aofex', 'bcex', 'bequant', 'bibox', 'bigone', 'binance', 'binanceje', 'binanceus', 'bit2c', 'bitbank', 'bitbay', 'bitfinex', 'bitfinex2', 'bitflyer', 'bitforex', 'bitget', 'bithumb', 'bitkk', 'bitmart', 'bitmax', 'bitmex', 'bitpanda', 'bitso', 'bitstamp', 'bitstamp1', 'bittrex', 'bitvavo', 'bitz', 'bl3p', 'bleutrade', 'braziliex', 'btcalpha', 'btcbox', 'btcmarkets', 'btctradeua', 'btcturk', 'buda', 'bw', 'bybit', 'bytetrade', 'cex', 'chilebit', 'coinbase', 'coinbaseprime', 'coinbasepro', 'coincheck', 'coinegg', 'coinex', 'coinfalcon', 'coinfloor', 'coingi', 'coinmarketcap', 'coinmate', 'coinone', 'coinspot', 'coss', 'crex24', 'currencycom', 'deribit', 'digifinex', 'dsx', 'eterbase', 'exmo', 'exx', 'fcoin', 'fcoinjp', 'flowbtc', 'foxbit', 'ftx', 'gateio', 'gemini', 'hbtc', 'hitbtc', 'hollaex', 'huobijp', 'huobipro', 'huobiru', 'ice3x', 'idex', 'idex2', 'independentreserve', 'indodax', 'itbit', 'kraken', 'kucoin', 'kuna', 'lakebtc', 'latoken', 'lbank', 'liquid', 'livecoin', 'luno', 'lykke', 'mercado', 'mixcoins', 'novadax', 'oceanex', 'okcoin', 'okex', 'paymium', 'phemex', 'poloniex', 'probit', 'qtrade', 'rightbtc', 'southxchange', 'stex', 'stronghold', 'surbitcoin', 'therock', 'tidebit', 'tidex', 'timex', 'upbit', 'vaultoro', 'vbtc', 'wavesexchange', 'whitebit', 'xbtce', 'xena', 'yobit', 'zaif', 'zb']\n"
     ]
    }
   ],
   "source": [
    "print(ccxt.exchanges)"
   ]
  },
  {
   "cell_type": "markdown",
   "metadata": {},
   "source": [
    "### Okex行情"
   ]
  },
  {
   "cell_type": "code",
   "execution_count": 3,
   "metadata": {},
   "outputs": [
    {
     "name": "stdout",
     "output_type": "stream",
     "text": [
      "https://www.okex.com/api/spot/v3/instruments/ETH-USDT/ticker\n",
      "<Response [200]>\n",
      "{'best_ask': '354.37', 'best_bid': '354.36', 'instrument_id': 'ETH-USDT', 'product_id': 'ETH-USDT', 'last': '354.36', 'last_qty': '0.057256', 'ask': '354.37', 'best_ask_size': '39.5', 'bid': '354.36', 'best_bid_size': '0.626612', 'open_24h': '359.44', 'high_24h': '368.09', 'low_24h': '351.8', 'base_volume_24h': '217618.2174', 'timestamp': '2020-09-29T02:09:32.813Z', 'quote_volume_24h': '78298588.68'}\n",
      "  best_ask best_bid instrument_id product_id    last  last_qty     ask  \\\n",
      "0   354.37   354.36      ETH-USDT   ETH-USDT  354.36  0.057256  354.37   \n",
      "\n",
      "  best_ask_size     bid best_bid_size open_24h high_24h low_24h  \\\n",
      "0          39.5  354.36      0.626612   359.44   368.09   351.8   \n",
      "\n",
      "  base_volume_24h                 timestamp quote_volume_24h  \n",
      "0     217618.2174  2020-09-29T02:09:32.813Z      78298588.68  \n"
     ]
    }
   ],
   "source": [
    "#  %s  %  url拼接\n",
    "symbol='ETH-USDT'\n",
    "url='https://www.okex.com/api/spot/v3/instruments/%s/ticker' % symbol\n",
    "print(url)\n",
    "okcx_ticker=requests.get(url)\n",
    "print(okcx_ticker)\n",
    "okcx_ticker01=okcx_ticker.json()\n",
    "print(okcx_ticker01)\n",
    "\n",
    "okcx_ticker02=pd.DataFrame(okcx_ticker01,index=[0])\n",
    "print(okcx_ticker02)"
   ]
  },
  {
   "cell_type": "code",
   "execution_count": 4,
   "metadata": {},
   "outputs": [
    {
     "data": {
      "text/plain": [
       "{'symbol': 'BTC/USDT',\n",
       " 'timestamp': 1601345380487,\n",
       " 'datetime': '2020-09-29T02:09:40.487Z',\n",
       " 'high': 10937.9,\n",
       " 'low': 10638.0,\n",
       " 'bid': 10683.1,\n",
       " 'bidVolume': 0.001,\n",
       " 'ask': 10683.2,\n",
       " 'askVolume': 6.01775257,\n",
       " 'vwap': None,\n",
       " 'open': 10926.5,\n",
       " 'close': 10683.1,\n",
       " 'last': 10683.1,\n",
       " 'previousClose': None,\n",
       " 'change': None,\n",
       " 'percentage': None,\n",
       " 'average': None,\n",
       " 'baseVolume': 41722.39148667,\n",
       " 'quoteVolume': 452667243.9,\n",
       " 'info': {'best_ask': '10683.2',\n",
       "  'best_bid': '10683.1',\n",
       "  'instrument_id': 'BTC-USDT',\n",
       "  'product_id': 'BTC-USDT',\n",
       "  'last': '10683.1',\n",
       "  'last_qty': '0.5',\n",
       "  'ask': '10683.2',\n",
       "  'best_ask_size': '6.01775257',\n",
       "  'bid': '10683.1',\n",
       "  'best_bid_size': '0.001',\n",
       "  'open_24h': '10926.5',\n",
       "  'high_24h': '10937.9',\n",
       "  'low_24h': '10638',\n",
       "  'base_volume_24h': '41722.39148667',\n",
       "  'timestamp': '2020-09-29T02:09:40.487Z',\n",
       "  'quote_volume_24h': '452667243.9'}}"
      ]
     },
     "execution_count": 4,
     "metadata": {},
     "output_type": "execute_result"
    }
   ],
   "source": [
    "# ccxt交易所的初始化设置\n",
    "okex= ccxt.okex({'timeout': 15000,'enableRateLimit': True})\n",
    "symbol='BTC/USDT'\n",
    "okex_ticker03=okex.fetchTicker(symbol)\n",
    "okex_ticker03\n",
    "# okex_ticker04=pd.DataFrame(okex_ticker03)\n",
    "# print(okex_ticker04)"
   ]
  },
  {
   "cell_type": "code",
   "execution_count": 5,
   "metadata": {},
   "outputs": [],
   "source": [
    "# dir(okex)"
   ]
  },
  {
   "cell_type": "code",
   "execution_count": 6,
   "metadata": {
    "scrolled": true
   },
   "outputs": [
    {
     "name": "stdout",
     "output_type": "stream",
     "text": [
      "   1m   3m   5m  15m   30m    1h    2h     4h     6h    12h     1d      1w  \\\n",
      "秒  60  180  300  900  1800  3600  7200  14400  21600  43200  86400  604800   \n",
      "\n",
      "        1M       3M        6M        1y  \n",
      "秒  2678400  8035200  16070400  31536000  \n"
     ]
    }
   ],
   "source": [
    "# 交易所的数据结构\n",
    "okex.id\n",
    "okex.name\n",
    "okex.rateLimit\n",
    "okex.timeout\n",
    "\n",
    "okex.countries\n",
    "okex.has['publicAPI']\n",
    "timeframes=okex.timeframes\n",
    "timeframe=pd.DataFrame(timeframes,index=['秒'])\n",
    "print(timeframe)"
   ]
  },
  {
   "cell_type": "code",
   "execution_count": 7,
   "metadata": {},
   "outputs": [
    {
     "data": {
      "text/plain": [
       "1601345404537"
      ]
     },
     "execution_count": 7,
     "metadata": {},
     "output_type": "execute_result"
    }
   ],
   "source": [
    "okex.milliseconds()"
   ]
  },
  {
   "cell_type": "code",
   "execution_count": 8,
   "metadata": {},
   "outputs": [
    {
     "name": "stdout",
     "output_type": "stream",
     "text": [
      "交易所当前时间： 2020-09-29T02:10:04.549Z\n"
     ]
    }
   ],
   "source": [
    "print('交易所当前时间：', okex.iso8601(okex.milliseconds()))"
   ]
  },
  {
   "cell_type": "markdown",
   "metadata": {},
   "source": [
    "### 币安行情"
   ]
  },
  {
   "cell_type": "code",
   "execution_count": 9,
   "metadata": {},
   "outputs": [
    {
     "name": "stdout",
     "output_type": "stream",
     "text": [
      "                      symbol      timestamp                  datetime  \\\n",
      "askPrice            BTC/USDT  1601345383977  2020-09-29T02:09:43.977Z   \n",
      "askQty              BTC/USDT  1601345383977  2020-09-29T02:09:43.977Z   \n",
      "bidPrice            BTC/USDT  1601345383977  2020-09-29T02:09:43.977Z   \n",
      "bidQty              BTC/USDT  1601345383977  2020-09-29T02:09:43.977Z   \n",
      "closeTime           BTC/USDT  1601345383977  2020-09-29T02:09:43.977Z   \n",
      "count               BTC/USDT  1601345383977  2020-09-29T02:09:43.977Z   \n",
      "firstId             BTC/USDT  1601345383977  2020-09-29T02:09:43.977Z   \n",
      "highPrice           BTC/USDT  1601345383977  2020-09-29T02:09:43.977Z   \n",
      "lastId              BTC/USDT  1601345383977  2020-09-29T02:09:43.977Z   \n",
      "lastPrice           BTC/USDT  1601345383977  2020-09-29T02:09:43.977Z   \n",
      "lastQty             BTC/USDT  1601345383977  2020-09-29T02:09:43.977Z   \n",
      "lowPrice            BTC/USDT  1601345383977  2020-09-29T02:09:43.977Z   \n",
      "openPrice           BTC/USDT  1601345383977  2020-09-29T02:09:43.977Z   \n",
      "openTime            BTC/USDT  1601345383977  2020-09-29T02:09:43.977Z   \n",
      "prevClosePrice      BTC/USDT  1601345383977  2020-09-29T02:09:43.977Z   \n",
      "priceChange         BTC/USDT  1601345383977  2020-09-29T02:09:43.977Z   \n",
      "priceChangePercent  BTC/USDT  1601345383977  2020-09-29T02:09:43.977Z   \n",
      "quoteVolume         BTC/USDT  1601345383977  2020-09-29T02:09:43.977Z   \n",
      "symbol              BTC/USDT  1601345383977  2020-09-29T02:09:43.977Z   \n",
      "volume              BTC/USDT  1601345383977  2020-09-29T02:09:43.977Z   \n",
      "weightedAvgPrice    BTC/USDT  1601345383977  2020-09-29T02:09:43.977Z   \n",
      "\n",
      "                        high      low       bid  bidVolume       ask  \\\n",
      "askPrice            10941.99  10626.0  10681.58   0.018721  10681.66   \n",
      "askQty              10941.99  10626.0  10681.58   0.018721  10681.66   \n",
      "bidPrice            10941.99  10626.0  10681.58   0.018721  10681.66   \n",
      "bidQty              10941.99  10626.0  10681.58   0.018721  10681.66   \n",
      "closeTime           10941.99  10626.0  10681.58   0.018721  10681.66   \n",
      "count               10941.99  10626.0  10681.58   0.018721  10681.66   \n",
      "firstId             10941.99  10626.0  10681.58   0.018721  10681.66   \n",
      "highPrice           10941.99  10626.0  10681.58   0.018721  10681.66   \n",
      "lastId              10941.99  10626.0  10681.58   0.018721  10681.66   \n",
      "lastPrice           10941.99  10626.0  10681.58   0.018721  10681.66   \n",
      "lastQty             10941.99  10626.0  10681.58   0.018721  10681.66   \n",
      "lowPrice            10941.99  10626.0  10681.58   0.018721  10681.66   \n",
      "openPrice           10941.99  10626.0  10681.58   0.018721  10681.66   \n",
      "openTime            10941.99  10626.0  10681.58   0.018721  10681.66   \n",
      "prevClosePrice      10941.99  10626.0  10681.58   0.018721  10681.66   \n",
      "priceChange         10941.99  10626.0  10681.58   0.018721  10681.66   \n",
      "priceChangePercent  10941.99  10626.0  10681.58   0.018721  10681.66   \n",
      "quoteVolume         10941.99  10626.0  10681.58   0.018721  10681.66   \n",
      "symbol              10941.99  10626.0  10681.58   0.018721  10681.66   \n",
      "volume              10941.99  10626.0  10681.58   0.018721  10681.66   \n",
      "weightedAvgPrice    10941.99  10626.0  10681.58   0.018721  10681.66   \n",
      "\n",
      "                    askVolume          vwap      open     close      last  \\\n",
      "askPrice             0.000032  10852.036516  10929.11  10681.66  10681.66   \n",
      "askQty               0.000032  10852.036516  10929.11  10681.66  10681.66   \n",
      "bidPrice             0.000032  10852.036516  10929.11  10681.66  10681.66   \n",
      "bidQty               0.000032  10852.036516  10929.11  10681.66  10681.66   \n",
      "closeTime            0.000032  10852.036516  10929.11  10681.66  10681.66   \n",
      "count                0.000032  10852.036516  10929.11  10681.66  10681.66   \n",
      "firstId              0.000032  10852.036516  10929.11  10681.66  10681.66   \n",
      "highPrice            0.000032  10852.036516  10929.11  10681.66  10681.66   \n",
      "lastId               0.000032  10852.036516  10929.11  10681.66  10681.66   \n",
      "lastPrice            0.000032  10852.036516  10929.11  10681.66  10681.66   \n",
      "lastQty              0.000032  10852.036516  10929.11  10681.66  10681.66   \n",
      "lowPrice             0.000032  10852.036516  10929.11  10681.66  10681.66   \n",
      "openPrice            0.000032  10852.036516  10929.11  10681.66  10681.66   \n",
      "openTime             0.000032  10852.036516  10929.11  10681.66  10681.66   \n",
      "prevClosePrice       0.000032  10852.036516  10929.11  10681.66  10681.66   \n",
      "priceChange          0.000032  10852.036516  10929.11  10681.66  10681.66   \n",
      "priceChangePercent   0.000032  10852.036516  10929.11  10681.66  10681.66   \n",
      "quoteVolume          0.000032  10852.036516  10929.11  10681.66  10681.66   \n",
      "symbol               0.000032  10852.036516  10929.11  10681.66  10681.66   \n",
      "volume               0.000032  10852.036516  10929.11  10681.66  10681.66   \n",
      "weightedAvgPrice     0.000032  10852.036516  10929.11  10681.66  10681.66   \n",
      "\n",
      "                    previousClose  change  percentage average    baseVolume  \\\n",
      "askPrice                 10929.73 -247.45      -2.264    None  46458.116183   \n",
      "askQty                   10929.73 -247.45      -2.264    None  46458.116183   \n",
      "bidPrice                 10929.73 -247.45      -2.264    None  46458.116183   \n",
      "bidQty                   10929.73 -247.45      -2.264    None  46458.116183   \n",
      "closeTime                10929.73 -247.45      -2.264    None  46458.116183   \n",
      "count                    10929.73 -247.45      -2.264    None  46458.116183   \n",
      "firstId                  10929.73 -247.45      -2.264    None  46458.116183   \n",
      "highPrice                10929.73 -247.45      -2.264    None  46458.116183   \n",
      "lastId                   10929.73 -247.45      -2.264    None  46458.116183   \n",
      "lastPrice                10929.73 -247.45      -2.264    None  46458.116183   \n",
      "lastQty                  10929.73 -247.45      -2.264    None  46458.116183   \n",
      "lowPrice                 10929.73 -247.45      -2.264    None  46458.116183   \n",
      "openPrice                10929.73 -247.45      -2.264    None  46458.116183   \n",
      "openTime                 10929.73 -247.45      -2.264    None  46458.116183   \n",
      "prevClosePrice           10929.73 -247.45      -2.264    None  46458.116183   \n",
      "priceChange              10929.73 -247.45      -2.264    None  46458.116183   \n",
      "priceChangePercent       10929.73 -247.45      -2.264    None  46458.116183   \n",
      "quoteVolume              10929.73 -247.45      -2.264    None  46458.116183   \n",
      "symbol                   10929.73 -247.45      -2.264    None  46458.116183   \n",
      "volume                   10929.73 -247.45      -2.264    None  46458.116183   \n",
      "weightedAvgPrice         10929.73 -247.45      -2.264    None  46458.116183   \n",
      "\n",
      "                     quoteVolume                info  \n",
      "askPrice            5.041652e+08      10681.66000000  \n",
      "askQty              5.041652e+08          0.00003200  \n",
      "bidPrice            5.041652e+08      10681.58000000  \n",
      "bidQty              5.041652e+08          0.01872100  \n",
      "closeTime           5.041652e+08       1601345383977  \n",
      "count               5.041652e+08              658709  \n",
      "firstId             5.041652e+08           424128004  \n",
      "highPrice           5.041652e+08      10941.99000000  \n",
      "lastId              5.041652e+08           424786712  \n",
      "lastPrice           5.041652e+08      10681.66000000  \n",
      "lastQty             5.041652e+08          0.02256000  \n",
      "lowPrice            5.041652e+08      10626.00000000  \n",
      "openPrice           5.041652e+08      10929.11000000  \n",
      "openTime            5.041652e+08       1601258983977  \n",
      "prevClosePrice      5.041652e+08      10929.73000000  \n",
      "priceChange         5.041652e+08       -247.45000000  \n",
      "priceChangePercent  5.041652e+08              -2.264  \n",
      "quoteVolume         5.041652e+08  504165173.27293393  \n",
      "symbol              5.041652e+08             BTCUSDT  \n",
      "volume              5.041652e+08      46458.11618300  \n",
      "weightedAvgPrice    5.041652e+08      10852.03651579  \n"
     ]
    }
   ],
   "source": [
    "bina= ccxt.binance({'timeout': 15000,'enableRateLimit': True})\n",
    "\n",
    "symbol='BTC/USDT'\n",
    "bina_ticker=bina.fetchTicker(symbol)\n",
    "bina_ticker01=pd.DataFrame(bina_ticker)\n",
    "print(bina_ticker01)"
   ]
  },
  {
   "cell_type": "markdown",
   "metadata": {},
   "source": [
    "### Markets"
   ]
  },
  {
   "cell_type": "code",
   "execution_count": 10,
   "metadata": {},
   "outputs": [],
   "source": [
    "market=okex.load_markets()\n",
    "#print(market)\n",
    "okex_market=pd.DataFrame(market)\n",
    "#print(okex_market)"
   ]
  },
  {
   "cell_type": "code",
   "execution_count": 11,
   "metadata": {},
   "outputs": [],
   "source": [
    "# 该交易所支持的交易对\n",
    "#list(market.keys())"
   ]
  },
  {
   "cell_type": "code",
   "execution_count": 12,
   "metadata": {},
   "outputs": [
    {
     "data": {
      "text/plain": [
       "{'percentage': True,\n",
       " 'taker': 0.0015,\n",
       " 'maker': 0.001,\n",
       " 'precision': {'amount': 1e-06, 'price': 0.01},\n",
       " 'limits': {'amount': {'min': 0.01, 'max': None},\n",
       "  'price': {'min': 0.01, 'max': None},\n",
       "  'cost': {'min': 0.01, 'max': None}},\n",
       " 'id': 'ETH-USDT',\n",
       " 'symbol': 'ETH/USDT',\n",
       " 'base': 'ETH',\n",
       " 'quote': 'USDT',\n",
       " 'baseId': 'ETH',\n",
       " 'quoteId': 'USDT',\n",
       " 'info': {'base_currency': 'ETH',\n",
       "  'category': '1',\n",
       "  'instrument_id': 'ETH-USDT',\n",
       "  'min_size': '0.01',\n",
       "  'quote_currency': 'USDT',\n",
       "  'size_increment': '0.000001',\n",
       "  'tick_size': '0.01'},\n",
       " 'type': 'spot',\n",
       " 'spot': True,\n",
       " 'futures': False,\n",
       " 'swap': False,\n",
       " 'option': False,\n",
       " 'active': True}"
      ]
     },
     "execution_count": 12,
     "metadata": {},
     "output_type": "execute_result"
    }
   ],
   "source": [
    "# 获取指定[交易对]市场信息\n",
    "market=okex.load_markets()\n",
    "symbol='ETH/USDT'\n",
    "eth_market=market[symbol]\n",
    "eth_market"
   ]
  },
  {
   "cell_type": "markdown",
   "metadata": {},
   "source": [
    "###  获取 ticker "
   ]
  },
  {
   "cell_type": "code",
   "execution_count": 13,
   "metadata": {},
   "outputs": [
    {
     "data": {
      "text/plain": [
       "{'symbol': 'ETH/USDT',\n",
       " 'timestamp': 1601345380120,\n",
       " 'datetime': '2020-09-29T02:09:40.120Z',\n",
       " 'high': 368.09,\n",
       " 'low': 351.8,\n",
       " 'bid': 354.28,\n",
       " 'bidVolume': 57.023638,\n",
       " 'ask': 354.29,\n",
       " 'askVolume': 1.013289,\n",
       " 'vwap': None,\n",
       " 'open': 359.44,\n",
       " 'close': 354.29,\n",
       " 'last': 354.29,\n",
       " 'previousClose': None,\n",
       " 'change': None,\n",
       " 'percentage': None,\n",
       " 'average': None,\n",
       " 'baseVolume': 217645.722604,\n",
       " 'quoteVolume': 78308333.5,\n",
       " 'info': {'best_ask': '354.29',\n",
       "  'best_bid': '354.28',\n",
       "  'instrument_id': 'ETH-USDT',\n",
       "  'product_id': 'ETH-USDT',\n",
       "  'last': '354.29',\n",
       "  'last_qty': '0.013289',\n",
       "  'ask': '354.29',\n",
       "  'best_ask_size': '1.013289',\n",
       "  'bid': '354.28',\n",
       "  'best_bid_size': '57.023638',\n",
       "  'open_24h': '359.44',\n",
       "  'high_24h': '368.09',\n",
       "  'low_24h': '351.8',\n",
       "  'base_volume_24h': '217645.722604',\n",
       "  'timestamp': '2020-09-29T02:09:40.120Z',\n",
       "  'quote_volume_24h': '78308333.5'}}"
      ]
     },
     "execution_count": 13,
     "metadata": {},
     "output_type": "execute_result"
    }
   ],
   "source": [
    "ticker=okex.fetchTicker('ETH/USDT')\n",
    "ticker"
   ]
  },
  {
   "cell_type": "code",
   "execution_count": 14,
   "metadata": {},
   "outputs": [
    {
     "data": {
      "text/plain": [
       "'2020-09-29T02:09:40.120Z'"
      ]
     },
     "execution_count": 14,
     "metadata": {},
     "output_type": "execute_result"
    }
   ],
   "source": [
    "ticker['last']\n",
    "ticker['timestamp']\n",
    "ticker['datetime']"
   ]
  },
  {
   "cell_type": "code",
   "execution_count": 15,
   "metadata": {},
   "outputs": [
    {
     "data": {
      "text/plain": [
       "'2020-09-29T02:09:40.120Z'"
      ]
     },
     "execution_count": 15,
     "metadata": {},
     "output_type": "execute_result"
    }
   ],
   "source": [
    "# 时间操作\n",
    "# 转换UTC时间\n",
    "okex.iso8601(ticker['timestamp'])"
   ]
  },
  {
   "cell_type": "code",
   "execution_count": 16,
   "metadata": {},
   "outputs": [
    {
     "data": {
      "text/plain": [
       "{'BTC/USDT': {'symbol': 'BTC/USDT',\n",
       "  'timestamp': 1601345385931,\n",
       "  'datetime': '2020-09-29T02:09:45.931Z',\n",
       "  'high': 10941.99,\n",
       "  'low': 10626.0,\n",
       "  'bid': 10681.58,\n",
       "  'bidVolume': 0.064006,\n",
       "  'ask': 10681.59,\n",
       "  'askVolume': 3.390737,\n",
       "  'vwap': 10852.03565365,\n",
       "  'open': 10928.76,\n",
       "  'close': 10681.58,\n",
       "  'last': 10681.58,\n",
       "  'previousClose': 10928.15,\n",
       "  'change': -247.18,\n",
       "  'percentage': -2.262,\n",
       "  'average': None,\n",
       "  'baseVolume': 46457.818183,\n",
       "  'quoteVolume': 504161899.31290615,\n",
       "  'info': {'symbol': 'BTCUSDT',\n",
       "   'priceChange': '-247.18000000',\n",
       "   'priceChangePercent': '-2.262',\n",
       "   'weightedAvgPrice': '10852.03565365',\n",
       "   'prevClosePrice': '10928.15000000',\n",
       "   'lastPrice': '10681.58000000',\n",
       "   'lastQty': '0.06000100',\n",
       "   'bidPrice': '10681.58000000',\n",
       "   'bidQty': '0.06400600',\n",
       "   'askPrice': '10681.59000000',\n",
       "   'askQty': '3.39073700',\n",
       "   'openPrice': '10928.76000000',\n",
       "   'highPrice': '10941.99000000',\n",
       "   'lowPrice': '10626.00000000',\n",
       "   'volume': '46457.81818300',\n",
       "   'quoteVolume': '504161899.31290615',\n",
       "   'openTime': 1601258985931,\n",
       "   'closeTime': 1601345385931,\n",
       "   'firstId': 424128032,\n",
       "   'lastId': 424786716,\n",
       "   'count': 658685}},\n",
       " 'ETH/USDT': {'symbol': 'ETH/USDT',\n",
       "  'timestamp': 1601345385645,\n",
       "  'datetime': '2020-09-29T02:09:45.645Z',\n",
       "  'high': 368.2,\n",
       "  'low': 351.5,\n",
       "  'bid': 354.4,\n",
       "  'bidVolume': 2.04167,\n",
       "  'ask': 354.41,\n",
       "  'askVolume': 40.0,\n",
       "  'vwap': 360.0102371,\n",
       "  'open': 359.47,\n",
       "  'close': 354.4,\n",
       "  'last': 354.4,\n",
       "  'previousClose': 359.46,\n",
       "  'change': -5.07,\n",
       "  'percentage': -1.41,\n",
       "  'average': None,\n",
       "  'baseVolume': 726038.86561,\n",
       "  'quoteVolume': 261381424.1556125,\n",
       "  'info': {'symbol': 'ETHUSDT',\n",
       "   'priceChange': '-5.07000000',\n",
       "   'priceChangePercent': '-1.410',\n",
       "   'weightedAvgPrice': '360.01023710',\n",
       "   'prevClosePrice': '359.46000000',\n",
       "   'lastPrice': '354.40000000',\n",
       "   'lastQty': '0.78000000',\n",
       "   'bidPrice': '354.40000000',\n",
       "   'bidQty': '2.04167000',\n",
       "   'askPrice': '354.41000000',\n",
       "   'askQty': '40.00000000',\n",
       "   'openPrice': '359.47000000',\n",
       "   'highPrice': '368.20000000',\n",
       "   'lowPrice': '351.50000000',\n",
       "   'volume': '726038.86561000',\n",
       "   'quoteVolume': '261381424.15561250',\n",
       "   'openTime': 1601258985645,\n",
       "   'closeTime': 1601345385645,\n",
       "   'firstId': 192500466,\n",
       "   'lastId': 192757524,\n",
       "   'count': 257059}}}"
      ]
     },
     "execution_count": 16,
     "metadata": {},
     "output_type": "execute_result"
    }
   ],
   "source": [
    "# 获取多个交易对ticker数据\n",
    "bina=ccxt.binance()\n",
    "tickers=bina.fetchTickers(['ETH/USDT','BTC/USDT'])\n",
    "tickers"
   ]
  },
  {
   "cell_type": "markdown",
   "metadata": {},
   "source": [
    "### 获取 交易委托账本 数据"
   ]
  },
  {
   "cell_type": "code",
   "execution_count": 17,
   "metadata": {},
   "outputs": [
    {
     "data": {
      "text/plain": [
       "{'bids': [[354.4, 0.00067],\n",
       "  [354.38, 0.68484],\n",
       "  [354.37, 58.81271],\n",
       "  [354.36, 8.65109],\n",
       "  [354.33, 20.0],\n",
       "  [354.27, 6.0],\n",
       "  [354.26, 30.63999],\n",
       "  [354.25, 38.99999],\n",
       "  [354.24, 4.30871],\n",
       "  [354.23, 28.23258],\n",
       "  [354.22, 19.06938],\n",
       "  [354.21, 50.0],\n",
       "  [354.2, 4.40715],\n",
       "  [354.19, 50.86574],\n",
       "  [354.18, 4.522],\n",
       "  [354.17, 19.29466],\n",
       "  [354.16, 21.06937],\n",
       "  [354.14, 67.67719],\n",
       "  [354.13, 14.46701],\n",
       "  [354.12, 1.41159],\n",
       "  [354.11, 8.46783],\n",
       "  [354.1, 12.0],\n",
       "  [354.09, 15.41159],\n",
       "  [354.08, 45.53464],\n",
       "  [354.07, 16.56159],\n",
       "  [354.06, 297.45634],\n",
       "  [354.05, 7.35406],\n",
       "  [354.03, 19.8179],\n",
       "  [354.02, 9.88644],\n",
       "  [354.01, 9.88672],\n",
       "  [353.99, 5.411],\n",
       "  [353.97, 20.43587],\n",
       "  [353.96, 8.47038],\n",
       "  [353.95, 11.65052],\n",
       "  [353.94, 19.8306],\n",
       "  [353.93, 16.0],\n",
       "  [353.92, 13.79],\n",
       "  [353.91, 186.72],\n",
       "  [353.9, 21.96679],\n",
       "  [353.89, 0.93886],\n",
       "  [353.87, 20.20055],\n",
       "  [353.86, 2.24549],\n",
       "  [353.85, 6.42619],\n",
       "  [353.84, 199.46886],\n",
       "  [353.83, 6.0],\n",
       "  [353.82, 18.85926],\n",
       "  [353.81, 1.02966],\n",
       "  [353.8, 5.70131],\n",
       "  [353.79, 2.82115],\n",
       "  [353.78, 6.5],\n",
       "  [353.77, 3.58715],\n",
       "  [353.76, 12.5],\n",
       "  [353.75, 269.1556],\n",
       "  [353.74, 11.28493],\n",
       "  [353.72, 9.99999],\n",
       "  [353.71, 7.43886],\n",
       "  [353.7, 2.938],\n",
       "  [353.69, 10.0],\n",
       "  [353.67, 14.79662],\n",
       "  [353.66, 6.99999],\n",
       "  [353.64, 6.0],\n",
       "  [353.63, 3.94141],\n",
       "  [353.6, 156.0],\n",
       "  [353.58, 6.0],\n",
       "  [353.57, 0.72643],\n",
       "  [353.56, 170.59663],\n",
       "  [353.55, 0.0611],\n",
       "  [353.54, 7.0],\n",
       "  [353.53, 0.93886],\n",
       "  [353.52, 77.20234],\n",
       "  [353.51, 12.0],\n",
       "  [353.5, 3.0],\n",
       "  [353.49, 0.03444],\n",
       "  [353.48, 6.0],\n",
       "  [353.47, 0.0474],\n",
       "  [353.46, 6.0],\n",
       "  [353.45, 7.79159],\n",
       "  [353.44, 0.50928],\n",
       "  [353.4, 25.91533],\n",
       "  [353.39, 6.0],\n",
       "  [353.38, 40.56595],\n",
       "  [353.35, 1.37886],\n",
       "  [353.34, 1.05324],\n",
       "  [353.23, 0.79663],\n",
       "  [353.22, 0.14117],\n",
       "  [353.19, 5.81382],\n",
       "  [353.17, 0.03447],\n",
       "  [353.15, 0.032],\n",
       "  [353.13, 0.09331],\n",
       "  [353.11, 0.35985],\n",
       "  [353.1, 13.0862],\n",
       "  [353.07, 0.22367],\n",
       "  [353.06, 20.3589],\n",
       "  [353.05, 0.0324],\n",
       "  [353.04, 0.085],\n",
       "  [353.01, 0.5],\n",
       "  [353.0, 41.27479],\n",
       "  [352.97, 0.04285],\n",
       "  [352.93, 0.2805],\n",
       "  [352.92, 0.0387]],\n",
       " 'asks': [[354.41, 9.0],\n",
       "  [354.42, 4.85867],\n",
       "  [354.44, 0.24969],\n",
       "  [354.45, 9.05067],\n",
       "  [354.46, 11.89997],\n",
       "  [354.47, 7.9949],\n",
       "  [354.48, 55.4689],\n",
       "  [354.49, 50.84871],\n",
       "  [354.5, 11.0],\n",
       "  [354.51, 30.0],\n",
       "  [354.52, 49.39306],\n",
       "  [354.53, 9.68443],\n",
       "  [354.54, 42.28354],\n",
       "  [354.55, 8.16],\n",
       "  [354.56, 30.37569],\n",
       "  [354.57, 1.41015],\n",
       "  [354.58, 10.80071],\n",
       "  [354.59, 77.82395],\n",
       "  [354.6, 9.43932],\n",
       "  [354.61, 15.06158],\n",
       "  [354.62, 0.19092],\n",
       "  [354.63, 39.86963],\n",
       "  [354.64, 11.64212],\n",
       "  [354.65, 29.07421],\n",
       "  [354.66, 24.6862],\n",
       "  [354.67, 23.87896],\n",
       "  [354.68, 2.65286],\n",
       "  [354.69, 204.6157],\n",
       "  [354.7, 6.0],\n",
       "  [354.71, 5.34476],\n",
       "  [354.72, 34.89818],\n",
       "  [354.73, 11.5217],\n",
       "  [354.74, 24.9743],\n",
       "  [354.75, 25.0161],\n",
       "  [354.77, 9.69],\n",
       "  [354.79, 19.11672],\n",
       "  [354.8, 15.19],\n",
       "  [354.81, 8.70177],\n",
       "  [354.82, 7.51268],\n",
       "  [354.83, 8.10005],\n",
       "  [354.84, 186.0788],\n",
       "  [354.85, 7.05],\n",
       "  [354.86, 23.16608],\n",
       "  [354.88, 11.69168],\n",
       "  [354.89, 6.44093],\n",
       "  [354.9, 9.86193],\n",
       "  [354.91, 8.574],\n",
       "  [354.92, 47.02174],\n",
       "  [354.93, 9.86109],\n",
       "  [354.94, 23.60206],\n",
       "  [354.97, 3.75989],\n",
       "  [354.99, 13.78924],\n",
       "  [355.0, 2.35627],\n",
       "  [355.01, 16.24243],\n",
       "  [355.02, 234.08758],\n",
       "  [355.03, 6.077],\n",
       "  [355.04, 9.99999],\n",
       "  [355.05, 11.02742],\n",
       "  [355.07, 0.99466],\n",
       "  [355.08, 11.2878],\n",
       "  [355.09, 186.36479],\n",
       "  [355.1, 37.78987],\n",
       "  [355.12, 19.0],\n",
       "  [355.13, 0.18007],\n",
       "  [355.14, 15.86109],\n",
       "  [355.15, 0.93886],\n",
       "  [355.17, 0.10001],\n",
       "  [355.18, 9.27014],\n",
       "  [355.19, 6.03379],\n",
       "  [355.2, 114.30084],\n",
       "  [355.21, 12.84747],\n",
       "  [355.22, 14.91],\n",
       "  [355.23, 6.25089],\n",
       "  [355.25, 0.04869],\n",
       "  [355.26, 0.032],\n",
       "  [355.27, 16.89786],\n",
       "  [355.28, 18.589],\n",
       "  [355.29, 0.03454],\n",
       "  [355.3, 6.6],\n",
       "  [355.31, 85.17022],\n",
       "  [355.32, 7.29663],\n",
       "  [355.35, 165.07537],\n",
       "  [355.36, 49.51924],\n",
       "  [355.37, 4.26613],\n",
       "  [355.39, 0.2144],\n",
       "  [355.4, 0.14855],\n",
       "  [355.41, 0.06343],\n",
       "  [355.43, 1.48387],\n",
       "  [355.44, 0.14862],\n",
       "  [355.47, 0.11259],\n",
       "  [355.48, 0.0323],\n",
       "  [355.5, 8.16513],\n",
       "  [355.51, 0.1],\n",
       "  [355.52, 46.09064],\n",
       "  [355.53, 0.7602],\n",
       "  [355.54, 0.2673],\n",
       "  [355.55, 3.30619],\n",
       "  [355.56, 6.91344],\n",
       "  [355.58, 45.636],\n",
       "  [355.59, 0.17438]],\n",
       " 'timestamp': None,\n",
       " 'datetime': None,\n",
       " 'nonce': 3369683102}"
      ]
     },
     "execution_count": 17,
     "metadata": {},
     "output_type": "execute_result"
    }
   ],
   "source": [
    "bina.fetchOrderBook('ETH/USDT')"
   ]
  },
  {
   "cell_type": "code",
   "execution_count": 18,
   "metadata": {},
   "outputs": [
    {
     "data": {
      "text/plain": [
       "'Tue, 29 Sep 2020 02:09:46 GMT'"
      ]
     },
     "execution_count": 18,
     "metadata": {},
     "output_type": "execute_result"
    }
   ],
   "source": [
    "# 获取上一次访问交易所的时间 (币安)\n",
    "bina.last_response_headers['Date']"
   ]
  },
  {
   "cell_type": "code",
   "execution_count": 19,
   "metadata": {},
   "outputs": [
    {
     "name": "stdout",
     "output_type": "stream",
     "text": [
      "买价：354.3200, 卖价：354.3300, 价差：0.0100\n"
     ]
    }
   ],
   "source": [
    "orderbook=okex.fetch_order_book('ETH/USDT')\n",
    "# 最高买价\n",
    "bid = orderbook['bids'][0][0] if len (orderbook['bids']) > 0 else None\n",
    "# 最低卖价\n",
    "ask = orderbook['asks'][0][0] if len (orderbook['asks']) > 0 else None\n",
    "# 价差\n",
    "spread = (ask - bid) if (bid and ask) else None\n",
    "\n",
    "# 市场行情\n",
    "print ('买价：{:.4f}, 卖价：{:.4f}, 价差：{:.4f}'.format(bid, ask, spread))\n"
   ]
  },
  {
   "cell_type": "code",
   "execution_count": 20,
   "metadata": {},
   "outputs": [
    {
     "name": "stdout",
     "output_type": "stream",
     "text": [
      "okex market price {'bid': 354.32, 'ask': 354.33, 'spread': 0.009999999999990905}\n"
     ]
    }
   ],
   "source": [
    "# Market Price\n",
    "orderbook=okex.fetch_order_book('ETH/USDT')\n",
    "bid = orderbook['bids'][0][0] if len (orderbook['bids']) > 0 else None\n",
    "ask = orderbook['asks'][0][0] if len (orderbook['asks']) > 0 else None\n",
    "spread = (ask - bid) if (bid and ask) else None\n",
    "print (okex.id, 'market price', { 'bid': bid, 'ask': ask, 'spread': spread })"
   ]
  },
  {
   "cell_type": "code",
   "execution_count": 21,
   "metadata": {},
   "outputs": [
    {
     "data": {
      "text/plain": [
       "{'bids': [[354.32, 0.25],\n",
       "  [354.28, 30.0],\n",
       "  [354.27, 15.744782],\n",
       "  [354.25, 41.51896],\n",
       "  [354.24, 4.397938]],\n",
       " 'asks': [[354.33, 67.735],\n",
       "  [354.35, 8.764345],\n",
       "  [354.36, 2.559017],\n",
       "  [354.37, 30.0],\n",
       "  [354.42, 5.644913]],\n",
       " 'timestamp': 1601345388807,\n",
       " 'datetime': '2020-09-29T02:09:48.807Z',\n",
       " 'nonce': None}"
      ]
     },
     "execution_count": 21,
     "metadata": {},
     "output_type": "execute_result"
    }
   ],
   "source": [
    "#  深度 the depth of the order book\n",
    "limit=5\n",
    "okex.fetch_order_book('ETH/USDT',limit)"
   ]
  },
  {
   "cell_type": "code",
   "execution_count": 22,
   "metadata": {},
   "outputs": [],
   "source": [
    "#import time\n",
    "#delay = 2 # seconds\n",
    "#for symbol in okex.markets:\n",
    "#    print (okex.fetch_order_book (symbol))\n",
    "#    time.sleep (delay) # rate limit"
   ]
  },
  {
   "cell_type": "markdown",
   "metadata": {},
   "source": [
    "### K线"
   ]
  },
  {
   "cell_type": "code",
   "execution_count": 23,
   "metadata": {},
   "outputs": [
    {
     "data": {
      "text/plain": [
       "True"
      ]
     },
     "execution_count": 23,
     "metadata": {},
     "output_type": "execute_result"
    }
   ],
   "source": [
    "bina.has['fetchOHLCV']"
   ]
  },
  {
   "cell_type": "code",
   "execution_count": 24,
   "metadata": {},
   "outputs": [],
   "source": [
    "#import time\n",
    "#if okex.has['fetchOHLCV']:\n",
    "    #for symbol in okex.markets:\n",
    "        #time.sleep (okex.rateLimit / 1000) # time.sleep wants seconds\n",
    "        #print (symbol, okex.fetch_ohlcv (symbol, '1d')) # one day"
   ]
  },
  {
   "cell_type": "code",
   "execution_count": 35,
   "metadata": {},
   "outputs": [
    {
     "data": {
      "text/plain": [
       "[[1584115200000, 123.66, 135.0, 114.89, 126.62, 1200624.324802],\n",
       " [1584201600000, 126.61, 130.47, 120.84, 123.98, 638972.467943],\n",
       " [1584288000000, 124.04, 133.24, 101.2, 114.68, 1540761.935319],\n",
       " [1584374400000, 114.67, 121.0, 107.02, 117.45, 1089789.851476],\n",
       " [1584460800000, 117.47, 119.67, 110.0, 115.77, 623353.279863],\n",
       " [1584547200000, 115.79, 129.12, 112.79, 128.05, 755469.255795],\n",
       " [1584633600000, 128.05, 152.54, 126.17, 142.72, 1223768.934862],\n",
       " [1584720000000, 142.72, 144.8, 117.0, 132.93, 943502.473301],\n",
       " [1584806400000, 132.92, 137.41, 124.62, 127.96, 607547.069309],\n",
       " [1584892800000, 127.94, 137.53, 119.65, 129.39, 840165.902509],\n",
       " [1584979200000, 129.44, 145.0, 129.07, 135.99, 863778.296903],\n",
       " [1585065600000, 136.0, 142.32, 132.5, 135.46, 702522.680864],\n",
       " [1585152000000, 135.48, 138.58, 132.99, 134.58, 399021.771876],\n",
       " [1585238400000, 134.59, 141.29, 133.6, 136.05, 354476.200756],\n",
       " [1585324800000, 136.04, 137.53, 124.88, 128.07, 403878.090309],\n",
       " [1585411200000, 128.05, 132.93, 125.18, 129.01, 214464.103087],\n",
       " [1585497600000, 129.02, 134.89, 123.88, 132.17, 351503.478367],\n",
       " [1585584000000, 132.18, 135.15, 130.37, 132.72, 289993.446938],\n",
       " [1585670400000, 132.76, 135.02, 130.39, 131.07, 220542.86793],\n",
       " [1585756800000, 131.04, 139.88, 128.65, 139.31, 421075.309657],\n",
       " [1585843200000, 139.33, 150.0, 138.0, 141.38, 765190.578355],\n",
       " [1585929600000, 141.37, 144.08, 137.8, 142.35, 253888.676083],\n",
       " [1586016000000, 142.33, 146.32, 140.98, 143.65, 233110.325653],\n",
       " [1586102400000, 143.63, 161.45, 140.68, 161.37, 682226.571834],\n",
       " [1586188800000, 161.38, 176.19, 160.17, 169.08, 806619.020885],\n",
       " [1586275200000, 169.09, 174.44, 162.23, 169.13, 607348.863609],\n",
       " [1586361600000, 169.11, 173.6, 165.15, 170.0, 405361.74946],\n",
       " [1586448000000, 170.01, 170.9, 152.17, 153.05, 724736.859303],\n",
       " [1586534400000, 153.04, 161.23, 152.1, 157.35, 352034.366049],\n",
       " [1586620800000, 157.34, 161.99, 153.93, 161.9, 406249.87513],\n",
       " [1586707200000, 161.93, 164.81, 149.63, 154.05, 851979.622871],\n",
       " [1586793600000, 154.02, 161.23, 152.93, 159.77, 496606.57008],\n",
       " [1586880000000, 159.84, 161.85, 155.13, 155.77, 460693.280834],\n",
       " [1586966400000, 155.82, 174.8, 148.19, 172.51, 1196924.237206],\n",
       " [1587052800000, 172.52, 174.8, 168.3, 169.83, 592266.277806],\n",
       " [1587139200000, 169.82, 184.77, 169.15, 184.51, 628562.381693],\n",
       " [1587225600000, 184.51, 189.43, 176.1, 178.78, 692604.04842],\n",
       " [1587312000000, 178.77, 186.43, 172.94, 179.36, 662431.22779],\n",
       " [1587398400000, 179.37, 180.1, 165.0, 170.27, 775404.610457],\n",
       " [1587484800000, 170.3, 183.0, 169.82, 182.68, 620091.128301],\n",
       " [1587571200000, 182.67, 194.0, 178.12, 189.28, 844943.181048],\n",
       " [1587657600000, 189.28, 190.8, 183.0, 187.51, 544704.949998],\n",
       " [1587744000000, 187.5, 198.3, 185.76, 193.39, 551217.829833],\n",
       " [1587830400000, 193.39, 200.0, 191.5, 193.92, 471132.568888],\n",
       " [1587916800000, 193.92, 199.13, 189.47, 192.76, 591943.46622],\n",
       " [1588003200000, 192.73, 197.51, 191.17, 195.51, 406334.311782],\n",
       " [1588089600000, 195.55, 210.97, 195.0, 209.79, 699681.900682],\n",
       " [1588176000000, 209.78, 227.23, 201.4, 208.07, 1338859.721718],\n",
       " [1588262400000, 208.06, 217.11, 202.02, 209.8, 805900.013623],\n",
       " [1588348800000, 209.84, 214.09, 208.2, 212.96, 443372.104593],\n",
       " [1588435200000, 212.92, 219.2, 204.7, 208.16, 645215.492763],\n",
       " [1588521600000, 208.14, 211.42, 194.89, 206.02, 645970.123276],\n",
       " [1588608000000, 206.03, 211.72, 201.16, 203.7, 523898.9294],\n",
       " [1588694400000, 203.69, 210.76, 202.1, 208.23, 453644.684571],\n",
       " [1588780800000, 208.25, 208.94, 196.72, 206.01, 660176.90221],\n",
       " [1588867200000, 206.01, 216.56, 204.34, 211.37, 780187.056725],\n",
       " [1588953600000, 211.37, 215.0, 208.35, 212.97, 505405.753507],\n",
       " [1589040000000, 212.95, 214.23, 180.3, 188.31, 926373.734896],\n",
       " [1589126400000, 188.33, 193.44, 180.38, 188.24, 776061.40239],\n",
       " [1589212800000, 188.28, 192.27, 176.0, 190.87, 574413.590841],\n",
       " [1589299200000, 190.88, 198.5, 186.77, 198.2, 348387.656711],\n",
       " [1589385600000, 198.19, 206.01, 195.41, 202.49, 561770.642579],\n",
       " [1589472000000, 202.47, 205.22, 196.25, 197.9, 502852.060889],\n",
       " [1589558400000, 197.9, 203.38, 191.5, 200.71, 469410.04531],\n",
       " [1589644800000, 200.73, 209.87, 197.79, 208.79, 416030.547432],\n",
       " [1589731200000, 208.79, 217.1, 206.13, 211.29, 534655.648181],\n",
       " [1589817600000, 211.29, 215.97, 209.01, 212.39, 365868.190024],\n",
       " [1589904000000, 212.39, 215.67, 206.1, 208.0, 360088.668406],\n",
       " [1589990400000, 208.02, 211.67, 196.54, 199.22, 459245.687755],\n",
       " [1590076800000, 199.21, 205.5, 191.6, 205.2, 440700.688417],\n",
       " [1590163200000, 205.22, 211.2, 204.5, 207.73, 272112.746801],\n",
       " [1590249600000, 207.73, 210.58, 203.63, 205.49, 243527.899013],\n",
       " [1590336000000, 205.48, 207.82, 198.0, 202.69, 355547.93726],\n",
       " [1590422400000, 202.71, 205.69, 197.03, 197.69, 249585.346879],\n",
       " [1590508800000, 197.67, 207.73, 196.7, 206.05, 323321.753363],\n",
       " [1590595200000, 206.05, 214.64, 204.66, 214.28, 294704.979209],\n",
       " [1590681600000, 214.31, 224.88, 213.54, 219.48, 586574.48567],\n",
       " [1590768000000, 219.49, 238.89, 218.79, 235.65, 530979.663211],\n",
       " [1590854400000, 235.6, 247.25, 231.82, 233.61, 522265.502313],\n",
       " [1590940800000, 233.63, 242.62, 229.72, 238.16, 524403.485101],\n",
       " [1591027200000, 238.19, 253.84, 224.3, 233.58, 910992.1192],\n",
       " [1591113600000, 233.55, 240.65, 232.17, 239.29, 365502.495314],\n",
       " [1591200000000, 239.29, 246.64, 236.2, 245.05, 473638.357139],\n",
       " [1591286400000, 245.06, 247.93, 239.0, 241.8, 710128.152793],\n",
       " [1591372800000, 241.77, 244.79, 238.0, 242.32, 341565.523275],\n",
       " [1591459200000, 242.32, 244.17, 235.0, 237.36, 501671.426119],\n",
       " [1591545600000, 237.35, 245.4, 235.22, 243.0, 402435.146963],\n",
       " [1591632000000, 243.0, 249.9, 238.0, 243.35, 371246.171762],\n",
       " [1591718400000, 243.34, 245.15, 240.59, 243.48, 268434.001472],\n",
       " [1591804800000, 243.48, 251.69, 237.74, 238.89, 912393.6483],\n",
       " [1591891200000, 238.89, 239.86, 226.0, 236.28, 753867.880627],\n",
       " [1591977600000, 236.29, 238.53, 234.04, 237.09, 248547.411151],\n",
       " [1592064000000, 237.06, 238.7, 232.82, 235.39, 200265.059336],\n",
       " [1592150400000, 235.39, 235.61, 218.3, 226.33, 439376.836202],\n",
       " [1592236800000, 226.4, 235.96, 225.68, 233.0, 356950.515534],\n",
       " [1592323200000, 232.99, 237.31, 231.0, 231.57, 242886.752935],\n",
       " [1592409600000, 231.57, 234.74, 227.7, 231.21, 217262.203105],\n",
       " [1592496000000, 231.25, 232.69, 226.66, 230.83, 252636.239802],\n",
       " [1592582400000, 230.83, 231.11, 225.1, 226.66, 209838.182246],\n",
       " [1592668800000, 226.63, 231.5, 226.16, 230.63, 142865.646653],\n",
       " [1592755200000, 230.63, 242.0, 227.21, 241.47, 307161.973751],\n",
       " [1592841600000, 241.48, 246.83, 240.8, 244.38, 386679.786972],\n",
       " [1592928000000, 244.38, 249.3, 231.01, 232.09, 515840.02488],\n",
       " [1593014400000, 232.07, 235.73, 227.35, 233.71, 357411.362039],\n",
       " [1593100800000, 233.72, 234.86, 227.56, 230.07, 276219.483908],\n",
       " [1593187200000, 230.07, 231.58, 226.29, 227.5, 183789.090756],\n",
       " [1593273600000, 227.5, 228.02, 215.22, 226.14, 352128.280964],\n",
       " [1593360000000, 226.14, 227.93, 221.24, 223.97, 224474.480479],\n",
       " [1593446400000, 223.95, 229.97, 222.88, 226.32, 249426.406535],\n",
       " [1593532800000, 226.34, 229.44, 224.15, 229.42, 186437.595132],\n",
       " [1593619200000, 229.42, 232.7, 225.0, 225.14, 336950.916828],\n",
       " [1593705600000, 225.14, 228.4, 222.82, 226.92, 274318.715744],\n",
       " [1593792000000, 226.93, 227.4, 224.18, 225.9, 150397.317142],\n",
       " [1593878400000, 225.88, 230.74, 223.02, 224.99, 210192.329177],\n",
       " [1593964800000, 224.99, 238.9, 223.36, 238.8, 358809.902261],\n",
       " [1594051200000, 238.8, 243.81, 234.57, 238.86, 422852.521155],\n",
       " [1594137600000, 238.87, 247.72, 236.5, 245.75, 364744.51707],\n",
       " [1594224000000, 245.76, 248.79, 237.95, 239.92, 339002.40363],\n",
       " [1594310400000, 239.91, 242.18, 235.8, 240.57, 227442.153939],\n",
       " [1594396800000, 240.57, 241.69, 237.55, 239.56, 119157.731953],\n",
       " [1594483200000, 239.56, 244.0, 236.0, 237.68, 208595.48858],\n",
       " [1594569600000, 237.68, 245.33, 236.92, 242.73, 244828.167095],\n",
       " [1594656000000, 242.75, 243.7, 236.65, 240.21, 232660.240023],\n",
       " [1594742400000, 240.22, 242.13, 238.04, 238.14, 166183.283652],\n",
       " [1594828800000, 238.13, 239.48, 230.0, 233.17, 319457.686427],\n",
       " [1594915200000, 233.17, 234.8, 231.74, 233.16, 161825.959056],\n",
       " [1595001600000, 233.16, 235.57, 232.34, 235.0, 102057.322244],\n",
       " [1595088000000, 234.99, 236.9, 233.26, 233.68, 108490.756798],\n",
       " [1595174400000, 233.68, 239.82, 233.54, 237.88, 172070.076139],\n",
       " [1595260800000, 237.89, 245.1, 233.99, 243.45, 252884.730845],\n",
       " [1595347200000, 243.57, 246.64, 241.63, 244.51, 168187.709489],\n",
       " [1595433600000, 244.51, 269.8, 243.44, 268.32, 662941.323232],\n",
       " [1595520000000, 268.25, 280.0, 267.49, 278.18, 633693.978804],\n",
       " [1595606400000, 278.18, 288.0, 274.78, 286.16, 516745.329535],\n",
       " [1595692800000, 286.12, 319.93, 283.48, 310.76, 979327.368664],\n",
       " [1595779200000, 310.79, 329.25, 303.96, 313.19, 937658.92323],\n",
       " [1595865600000, 313.21, 333.0, 306.0, 321.73, 963766.979179],\n",
       " [1595952000000, 321.77, 325.12, 312.35, 321.56, 561378.173202],\n",
       " [1596038400000, 321.52, 323.52, 314.04, 319.12, 354860.257335],\n",
       " [1596124800000, 319.14, 347.75, 317.91, 344.41, 705778.970127],\n",
       " [1596211200000, 344.43, 360.47, 340.28, 357.81, 525907.914642],\n",
       " [1596297600000, 357.8, 415.8, 327.8, 368.14, 1459267.833616],\n",
       " [1596384000000, 368.12, 397.84, 366.5, 393.74, 722289.309217],\n",
       " [1596470400000, 393.74, 403.0, 380.01, 390.26, 664081.334767],\n",
       " [1596556800000, 390.26, 401.19, 384.0, 395.19, 393168.842162],\n",
       " [1596643200000, 395.19, 406.92, 390.0, 399.2, 413068.260399],\n",
       " [1596729600000, 399.21, 399.98, 377.67, 385.46, 452813.87343],\n",
       " [1596816000000, 385.45, 393.3, 362.88, 390.4, 494508.426419],\n",
       " [1596902400000, 390.5, 400.0, 383.13, 386.67, 349526.484146],\n",
       " [1596988800000, 386.69, 399.0, 384.5, 396.78, 367356.542644],\n",
       " [1597075200000, 396.74, 398.21, 377.57, 382.3, 381492.304098],\n",
       " [1597161600000, 382.28, 386.93, 365.92, 385.01, 475089.901177],\n",
       " [1597248000000, 385.09, 397.68, 380.01, 392.63, 379236.804656],\n",
       " [1597334400000, 392.64, 437.28, 387.71, 436.52, 510790.259723],\n",
       " [1597420800000, 436.46, 444.54, 426.86, 435.66, 364023.254799],\n",
       " [1597507200000, 435.71, 439.17, 412.5, 430.36, 293981.619519],\n",
       " [1597593600000, 430.39, 440.77, 420.46, 440.71, 354946.21641],\n",
       " [1597680000000, 440.71, 446.25, 414.0, 420.0, 396133.611335],\n",
       " [1597766400000, 420.01, 429.17, 401.82, 409.62, 343951.042146],\n",
       " [1597852800000, 409.63, 415.9, 393.46, 415.22, 321271.621276],\n",
       " [1597939200000, 415.21, 418.9, 399.59, 404.27, 247399.492345],\n",
       " [1598025600000, 404.21, 406.65, 380.0, 390.16, 307795.010746],\n",
       " [1598112000000, 390.19, 396.99, 383.17, 392.68, 183540.399604],\n",
       " [1598198400000, 392.58, 408.5, 387.53, 403.01, 203082.067948],\n",
       " [1598284800000, 403.04, 410.3, 380.29, 385.56, 307070.226633],\n",
       " [1598371200000, 385.55, 390.25, 370.0, 389.97, 401644.279359],\n",
       " [1598457600000, 389.98, 397.0, 380.54, 383.73, 267517.569144],\n",
       " [1598544000000, 383.74, 396.96, 371.5, 396.23, 281368.124617],\n",
       " [1598630400000, 396.23, 403.99, 390.81, 402.46, 194936.581943],\n",
       " [1598716800000, 402.48, 418.56, 398.25, 416.88, 215994.308148],\n",
       " [1598803200000, 416.85, 439.0, 415.14, 434.16, 422165.422058],\n",
       " [1598889600000, 434.21, 486.0, 429.31, 482.13, 558821.965075],\n",
       " [1598976000000, 482.12, 488.73, 415.39, 432.53, 799312.092905],\n",
       " [1599062400000, 432.47, 450.78, 391.35, 403.47, 820385.986229],\n",
       " [1599148800000, 403.54, 407.72, 356.0, 384.14, 875390.960586],\n",
       " [1599235200000, 384.2, 394.68, 335.0, 357.22, 897005.86494],\n",
       " [1599321600000, 357.26, 359.49, 307.35, 344.35, 1180613.313855],\n",
       " [1599408000000, 344.35, 359.97, 323.28, 346.22, 567917.583165],\n",
       " [1599494400000, 346.11, 356.59, 331.19, 341.34, 373218.925693],\n",
       " [1599580800000, 341.42, 354.79, 325.36, 352.51, 334594.237288],\n",
       " [1599667200000, 352.51, 377.36, 348.6, 370.87, 390337.031342],\n",
       " [1599753600000, 370.85, 373.0, 355.78, 369.89, 269984.875693],\n",
       " [1599840000000, 369.88, 375.21, 364.7, 373.18, 199248.367204],\n",
       " [1599926400000, 373.21, 390.17, 359.76, 360.71, 366561.648649],\n",
       " [1600012800000, 360.82, 383.98, 353.55, 383.0, 341926.625377],\n",
       " [1600099200000, 383.02, 384.37, 362.9, 365.94, 399003.831551],\n",
       " [1600185600000, 365.95, 371.0, 355.13, 370.47, 333036.517695],\n",
       " [1600272000000, 370.48, 385.0, 363.35, 380.32, 427239.583217],\n",
       " [1600358400000, 380.32, 394.0, 379.0, 382.06, 314629.030312],\n",
       " [1600444800000, 382.06, 388.61, 375.71, 384.73, 211791.877138],\n",
       " [1600531200000, 384.66, 386.66, 370.67, 370.77, 177094.947521],\n",
       " [1600617600000, 370.72, 376.9, 331.07, 340.21, 498850.512216],\n",
       " [1600704000000, 340.16, 349.46, 335.56, 341.27, 325437.67997],\n",
       " [1600790400000, 341.24, 346.88, 333.1, 338.54, 244694.571218],\n",
       " [1600876800000, 338.56, 345.0, 313.28, 344.5, 430349.302365],\n",
       " [1600963200000, 344.41, 353.15, 337.46, 347.17, 352001.941647],\n",
       " [1601049600000, 347.18, 357.83, 345.06, 352.4, 228990.299083],\n",
       " [1601136000000, 352.4, 362.19, 347.21, 355.46, 234846.699473],\n",
       " [1601222400000, 355.57, 367.0, 351.52, 364.91, 242781.890676],\n",
       " [1601308800000, 364.91, 368.09, 351.8, 354.39, 114904.135473]]"
      ]
     },
     "execution_count": 35,
     "metadata": {},
     "output_type": "execute_result"
    }
   ],
   "source": [
    "symbol='ETH/USDT'\n",
    "kline=okex.fetchOHLCV(symbol,'1d',limit=None)\n",
    "kline"
   ]
  },
  {
   "cell_type": "code",
   "execution_count": 36,
   "metadata": {},
   "outputs": [
    {
     "data": {
      "text/plain": [
       "200"
      ]
     },
     "execution_count": 36,
     "metadata": {},
     "output_type": "execute_result"
    }
   ],
   "source": [
    "len(kline)"
   ]
  },
  {
   "cell_type": "code",
   "execution_count": 26,
   "metadata": {},
   "outputs": [
    {
     "data": {
      "text/html": [
       "<div>\n",
       "<style scoped>\n",
       "    .dataframe tbody tr th:only-of-type {\n",
       "        vertical-align: middle;\n",
       "    }\n",
       "\n",
       "    .dataframe tbody tr th {\n",
       "        vertical-align: top;\n",
       "    }\n",
       "\n",
       "    .dataframe thead th {\n",
       "        text-align: right;\n",
       "    }\n",
       "</style>\n",
       "<table border=\"1\" class=\"dataframe\">\n",
       "  <thead>\n",
       "    <tr style=\"text-align: right;\">\n",
       "      <th></th>\n",
       "      <th>Datetime</th>\n",
       "      <th>Open</th>\n",
       "      <th>High</th>\n",
       "      <th>Low</th>\n",
       "      <th>Close</th>\n",
       "      <th>Vol</th>\n",
       "    </tr>\n",
       "  </thead>\n",
       "  <tbody>\n",
       "    <tr>\n",
       "      <th>0</th>\n",
       "      <td>2020-03-13T16:00:00.000Z</td>\n",
       "      <td>123.66</td>\n",
       "      <td>135.00</td>\n",
       "      <td>114.89</td>\n",
       "      <td>126.62</td>\n",
       "      <td>1.200624e+06</td>\n",
       "    </tr>\n",
       "    <tr>\n",
       "      <th>1</th>\n",
       "      <td>2020-03-14T16:00:00.000Z</td>\n",
       "      <td>126.61</td>\n",
       "      <td>130.47</td>\n",
       "      <td>120.84</td>\n",
       "      <td>123.98</td>\n",
       "      <td>6.389725e+05</td>\n",
       "    </tr>\n",
       "    <tr>\n",
       "      <th>2</th>\n",
       "      <td>2020-03-15T16:00:00.000Z</td>\n",
       "      <td>124.04</td>\n",
       "      <td>133.24</td>\n",
       "      <td>101.20</td>\n",
       "      <td>114.68</td>\n",
       "      <td>1.540762e+06</td>\n",
       "    </tr>\n",
       "    <tr>\n",
       "      <th>3</th>\n",
       "      <td>2020-03-16T16:00:00.000Z</td>\n",
       "      <td>114.67</td>\n",
       "      <td>121.00</td>\n",
       "      <td>107.02</td>\n",
       "      <td>117.45</td>\n",
       "      <td>1.089790e+06</td>\n",
       "    </tr>\n",
       "    <tr>\n",
       "      <th>4</th>\n",
       "      <td>2020-03-17T16:00:00.000Z</td>\n",
       "      <td>117.47</td>\n",
       "      <td>119.67</td>\n",
       "      <td>110.00</td>\n",
       "      <td>115.77</td>\n",
       "      <td>6.233533e+05</td>\n",
       "    </tr>\n",
       "    <tr>\n",
       "      <th>...</th>\n",
       "      <td>...</td>\n",
       "      <td>...</td>\n",
       "      <td>...</td>\n",
       "      <td>...</td>\n",
       "      <td>...</td>\n",
       "      <td>...</td>\n",
       "    </tr>\n",
       "    <tr>\n",
       "      <th>195</th>\n",
       "      <td>2020-09-24T16:00:00.000Z</td>\n",
       "      <td>344.41</td>\n",
       "      <td>353.15</td>\n",
       "      <td>337.46</td>\n",
       "      <td>347.17</td>\n",
       "      <td>3.520019e+05</td>\n",
       "    </tr>\n",
       "    <tr>\n",
       "      <th>196</th>\n",
       "      <td>2020-09-25T16:00:00.000Z</td>\n",
       "      <td>347.18</td>\n",
       "      <td>357.83</td>\n",
       "      <td>345.06</td>\n",
       "      <td>352.40</td>\n",
       "      <td>2.289903e+05</td>\n",
       "    </tr>\n",
       "    <tr>\n",
       "      <th>197</th>\n",
       "      <td>2020-09-26T16:00:00.000Z</td>\n",
       "      <td>352.40</td>\n",
       "      <td>362.19</td>\n",
       "      <td>347.21</td>\n",
       "      <td>355.46</td>\n",
       "      <td>2.348467e+05</td>\n",
       "    </tr>\n",
       "    <tr>\n",
       "      <th>198</th>\n",
       "      <td>2020-09-27T16:00:00.000Z</td>\n",
       "      <td>355.57</td>\n",
       "      <td>367.00</td>\n",
       "      <td>351.52</td>\n",
       "      <td>364.91</td>\n",
       "      <td>2.427819e+05</td>\n",
       "    </tr>\n",
       "    <tr>\n",
       "      <th>199</th>\n",
       "      <td>2020-09-28T16:00:00.000Z</td>\n",
       "      <td>364.91</td>\n",
       "      <td>368.09</td>\n",
       "      <td>351.80</td>\n",
       "      <td>354.29</td>\n",
       "      <td>1.072912e+05</td>\n",
       "    </tr>\n",
       "  </tbody>\n",
       "</table>\n",
       "<p>200 rows × 6 columns</p>\n",
       "</div>"
      ],
      "text/plain": [
       "                     Datetime    Open    High     Low   Close           Vol\n",
       "0    2020-03-13T16:00:00.000Z  123.66  135.00  114.89  126.62  1.200624e+06\n",
       "1    2020-03-14T16:00:00.000Z  126.61  130.47  120.84  123.98  6.389725e+05\n",
       "2    2020-03-15T16:00:00.000Z  124.04  133.24  101.20  114.68  1.540762e+06\n",
       "3    2020-03-16T16:00:00.000Z  114.67  121.00  107.02  117.45  1.089790e+06\n",
       "4    2020-03-17T16:00:00.000Z  117.47  119.67  110.00  115.77  6.233533e+05\n",
       "..                        ...     ...     ...     ...     ...           ...\n",
       "195  2020-09-24T16:00:00.000Z  344.41  353.15  337.46  347.17  3.520019e+05\n",
       "196  2020-09-25T16:00:00.000Z  347.18  357.83  345.06  352.40  2.289903e+05\n",
       "197  2020-09-26T16:00:00.000Z  352.40  362.19  347.21  355.46  2.348467e+05\n",
       "198  2020-09-27T16:00:00.000Z  355.57  367.00  351.52  364.91  2.427819e+05\n",
       "199  2020-09-28T16:00:00.000Z  364.91  368.09  351.80  354.29  1.072912e+05\n",
       "\n",
       "[200 rows x 6 columns]"
      ]
     },
     "execution_count": 26,
     "metadata": {},
     "output_type": "execute_result"
    }
   ],
   "source": [
    "import pandas as pd\n",
    "kline_pd=pd.DataFrame(kline)\n",
    "kline_pd.columns = ['Datetime', 'Open', 'High', 'Low', 'Close', 'Vol']\n",
    "\n",
    "# pd下转化成UTC时间\n",
    "kline_pd['Datetime'] = kline_pd['Datetime'].apply(okex.iso8601)\n",
    "\n",
    "kline_pd"
   ]
  },
  {
   "cell_type": "code",
   "execution_count": 27,
   "metadata": {},
   "outputs": [
    {
     "data": {
      "text/html": [
       "<div>\n",
       "<style scoped>\n",
       "    .dataframe tbody tr th:only-of-type {\n",
       "        vertical-align: middle;\n",
       "    }\n",
       "\n",
       "    .dataframe tbody tr th {\n",
       "        vertical-align: top;\n",
       "    }\n",
       "\n",
       "    .dataframe thead th {\n",
       "        text-align: right;\n",
       "    }\n",
       "</style>\n",
       "<table border=\"1\" class=\"dataframe\">\n",
       "  <thead>\n",
       "    <tr style=\"text-align: right;\">\n",
       "      <th></th>\n",
       "      <th>Datetime</th>\n",
       "      <th>Open</th>\n",
       "      <th>High</th>\n",
       "      <th>Low</th>\n",
       "      <th>Close</th>\n",
       "      <th>Vol</th>\n",
       "    </tr>\n",
       "  </thead>\n",
       "  <tbody>\n",
       "    <tr>\n",
       "      <th>0</th>\n",
       "      <td>2020-03-13T16:00:00.000Z</td>\n",
       "      <td>123.66</td>\n",
       "      <td>135.00</td>\n",
       "      <td>114.89</td>\n",
       "      <td>126.62</td>\n",
       "      <td>1.200624e+06</td>\n",
       "    </tr>\n",
       "    <tr>\n",
       "      <th>1</th>\n",
       "      <td>2020-03-14T16:00:00.000Z</td>\n",
       "      <td>126.61</td>\n",
       "      <td>130.47</td>\n",
       "      <td>120.84</td>\n",
       "      <td>123.98</td>\n",
       "      <td>6.389725e+05</td>\n",
       "    </tr>\n",
       "    <tr>\n",
       "      <th>2</th>\n",
       "      <td>2020-03-15T16:00:00.000Z</td>\n",
       "      <td>124.04</td>\n",
       "      <td>133.24</td>\n",
       "      <td>101.20</td>\n",
       "      <td>114.68</td>\n",
       "      <td>1.540762e+06</td>\n",
       "    </tr>\n",
       "    <tr>\n",
       "      <th>3</th>\n",
       "      <td>2020-03-16T16:00:00.000Z</td>\n",
       "      <td>114.67</td>\n",
       "      <td>121.00</td>\n",
       "      <td>107.02</td>\n",
       "      <td>117.45</td>\n",
       "      <td>1.089790e+06</td>\n",
       "    </tr>\n",
       "    <tr>\n",
       "      <th>4</th>\n",
       "      <td>2020-03-17T16:00:00.000Z</td>\n",
       "      <td>117.47</td>\n",
       "      <td>119.67</td>\n",
       "      <td>110.00</td>\n",
       "      <td>115.77</td>\n",
       "      <td>6.233533e+05</td>\n",
       "    </tr>\n",
       "  </tbody>\n",
       "</table>\n",
       "</div>"
      ],
      "text/plain": [
       "                   Datetime    Open    High     Low   Close           Vol\n",
       "0  2020-03-13T16:00:00.000Z  123.66  135.00  114.89  126.62  1.200624e+06\n",
       "1  2020-03-14T16:00:00.000Z  126.61  130.47  120.84  123.98  6.389725e+05\n",
       "2  2020-03-15T16:00:00.000Z  124.04  133.24  101.20  114.68  1.540762e+06\n",
       "3  2020-03-16T16:00:00.000Z  114.67  121.00  107.02  117.45  1.089790e+06\n",
       "4  2020-03-17T16:00:00.000Z  117.47  119.67  110.00  115.77  6.233533e+05"
      ]
     },
     "execution_count": 27,
     "metadata": {},
     "output_type": "execute_result"
    }
   ],
   "source": [
    "kline_pd.head()"
   ]
  },
  {
   "cell_type": "code",
   "execution_count": 28,
   "metadata": {},
   "outputs": [
    {
     "data": {
      "text/plain": [
       "(200, 6)"
      ]
     },
     "execution_count": 28,
     "metadata": {},
     "output_type": "execute_result"
    }
   ],
   "source": [
    "kline_pd.shape"
   ]
  },
  {
   "cell_type": "code",
   "execution_count": 44,
   "metadata": {},
   "outputs": [],
   "source": [
    "# 指定起始时间\n",
    "since=okex.parse8601('2020-01-01T00:00:00Z')\n",
    "kline=okex.fetchOHLCV(symbol,'1d',limit=None,since=since)\n",
    "\n",
    "kline_pd=pd.DataFrame(kline)\n",
    "kline_pd.columns = ['Datetime', 'Open', 'High', 'Low', 'Close', 'Vol']\n",
    "kline_pd['Datetime'] = kline_pd['Datetime'].apply(okex.iso8601)\n",
    "\n",
    "kline_pd"
   ]
  },
  {
   "cell_type": "code",
   "execution_count": null,
   "metadata": {},
   "outputs": [],
   "source": [
    "# 保存数据\n",
    "kline_pd.to_csv('eth.csv')"
   ]
  },
  {
   "cell_type": "code",
   "execution_count": 37,
   "metadata": {},
   "outputs": [],
   "source": [
    "if okex.has['fetchOrders']:\n",
    "    since = okex.parse8601('2020-01-01T00:00:00Z')\n",
    "    end = okex.milliseconds() - 60 * 1000  # 前一分钟\n",
    "    all_kline_data = []\n",
    "    while since < end:\n",
    "        symbol = 'BTC/USDT'\n",
    "        kline_data = okex.fetch_ohlcv(symbol, since=since, timeframe='1d')\n",
    "        print(okex.iso8601(since))\n",
    "        if len(kline_data):\n",
    "            # 更新获取时间\n",
    "            since = kline_data[len(kline_data) - 1][0]\n",
    "            all_kline_data += kline_data\n",
    "        else:\n",
    "            break"
   ]
  },
  {
   "cell_type": "code",
   "execution_count": null,
   "metadata": {},
   "outputs": [],
   "source": []
  }
 ],
 "metadata": {
  "kernelspec": {
   "display_name": "Python 3",
   "language": "python",
   "name": "python3"
  },
  "language_info": {
   "codemirror_mode": {
    "name": "ipython",
    "version": 3
   },
   "file_extension": ".py",
   "mimetype": "text/x-python",
   "name": "python",
   "nbconvert_exporter": "python",
   "pygments_lexer": "ipython3",
   "version": "3.7.6"
  }
 },
 "nbformat": 4,
 "nbformat_minor": 4
}
