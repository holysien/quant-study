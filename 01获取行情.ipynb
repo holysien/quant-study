{
 "cells": [
  {
   "cell_type": "code",
   "execution_count": 1,
   "metadata": {},
   "outputs": [],
   "source": [
    "import ccxt\n",
    "import requests\n",
    "import pandas as pd\n",
    "from datetime import datetime"
   ]
  },
  {
   "cell_type": "code",
   "execution_count": 2,
   "metadata": {},
   "outputs": [
    {
     "name": "stdout",
     "output_type": "stream",
     "text": [
      "['acx', 'aofex', 'bcex', 'bequant', 'bibox', 'bigone', 'binance', 'binanceje', 'binanceus', 'bit2c', 'bitbank', 'bitbay', 'bitfinex', 'bitfinex2', 'bitflyer', 'bitforex', 'bitget', 'bithumb', 'bitkk', 'bitmart', 'bitmax', 'bitmex', 'bitpanda', 'bitso', 'bitstamp', 'bitstamp1', 'bittrex', 'bitvavo', 'bitz', 'bl3p', 'bleutrade', 'braziliex', 'btcalpha', 'btcbox', 'btcmarkets', 'btctradeua', 'btcturk', 'buda', 'bw', 'bybit', 'bytetrade', 'cex', 'chilebit', 'coinbase', 'coinbaseprime', 'coinbasepro', 'coincheck', 'coinegg', 'coinex', 'coinfalcon', 'coinfloor', 'coingi', 'coinmarketcap', 'coinmate', 'coinone', 'coinspot', 'coss', 'crex24', 'currencycom', 'deribit', 'digifinex', 'dsx', 'eterbase', 'exmo', 'exx', 'fcoin', 'fcoinjp', 'flowbtc', 'foxbit', 'ftx', 'gateio', 'gemini', 'hbtc', 'hitbtc', 'hollaex', 'huobijp', 'huobipro', 'huobiru', 'ice3x', 'idex', 'idex2', 'independentreserve', 'indodax', 'itbit', 'kraken', 'kucoin', 'kuna', 'lakebtc', 'latoken', 'lbank', 'liquid', 'livecoin', 'luno', 'lykke', 'mercado', 'mixcoins', 'novadax', 'oceanex', 'okcoin', 'okex', 'paymium', 'phemex', 'poloniex', 'probit', 'qtrade', 'rightbtc', 'southxchange', 'stex', 'stronghold', 'surbitcoin', 'therock', 'tidebit', 'tidex', 'timex', 'upbit', 'vaultoro', 'vbtc', 'wavesexchange', 'whitebit', 'xbtce', 'xena', 'yobit', 'zaif', 'zb']\n"
     ]
    }
   ],
   "source": [
    "print(ccxt.exchanges)"
   ]
  },
  {
   "cell_type": "markdown",
   "metadata": {},
   "source": [
    "### Okex行情"
   ]
  },
  {
   "cell_type": "code",
   "execution_count": 3,
   "metadata": {},
   "outputs": [
    {
     "name": "stdout",
     "output_type": "stream",
     "text": [
      "https://www.okex.com/api/spot/v3/instruments/ETH-USDT/ticker\n",
      "<Response [200]>\n",
      "{'best_ask': '357.82', 'best_bid': '357.81', 'instrument_id': 'ETH-USDT', 'product_id': 'ETH-USDT', 'last': '357.81', 'last_qty': '1.52376', 'ask': '357.82', 'best_ask_size': '75.6361', 'bid': '357.81', 'best_bid_size': '30.5', 'open_24h': '358.78', 'high_24h': '362.19', 'low_24h': '347.21', 'base_volume_24h': '204149.331219', 'timestamp': '2020-09-28T03:22:12.595Z', 'quote_volume_24h': '72522898.11'}\n",
      "  best_ask best_bid instrument_id product_id    last last_qty     ask  \\\n",
      "0   357.82   357.81      ETH-USDT   ETH-USDT  357.81  1.52376  357.82   \n",
      "\n",
      "  best_ask_size     bid best_bid_size open_24h high_24h low_24h  \\\n",
      "0       75.6361  357.81          30.5   358.78   362.19  347.21   \n",
      "\n",
      "  base_volume_24h                 timestamp quote_volume_24h  \n",
      "0   204149.331219  2020-09-28T03:22:12.595Z      72522898.11  \n"
     ]
    }
   ],
   "source": [
    "#  %s  %  url拼接\n",
    "symbol='ETH-USDT'\n",
    "url='https://www.okex.com/api/spot/v3/instruments/%s/ticker' % symbol\n",
    "print(url)\n",
    "okcx_ticker=requests.get(url)\n",
    "print(okcx_ticker)\n",
    "okcx_ticker01=okcx_ticker.json()\n",
    "print(okcx_ticker01)\n",
    "\n",
    "okcx_ticker02=pd.DataFrame(okcx_ticker01,index=[0])\n",
    "print(okcx_ticker02)"
   ]
  },
  {
   "cell_type": "code",
   "execution_count": 18,
   "metadata": {},
   "outputs": [
    {
     "data": {
      "text/plain": [
       "{'symbol': 'BTC/USDT',\n",
       " 'timestamp': 1601277097881,\n",
       " 'datetime': '2020-09-28T07:11:37.881Z',\n",
       " 'high': 10956.0,\n",
       " 'low': 10593.4,\n",
       " 'bid': 10834.1,\n",
       " 'bidVolume': 5.84128517,\n",
       " 'ask': 10834.2,\n",
       " 'askVolume': 0.24380633,\n",
       " 'vwap': None,\n",
       " 'open': 10669.9,\n",
       " 'close': 10835.1,\n",
       " 'last': 10835.1,\n",
       " 'previousClose': None,\n",
       " 'change': None,\n",
       " 'percentage': None,\n",
       " 'average': None,\n",
       " 'baseVolume': 33285.21823747,\n",
       " 'quoteVolume': 358133993.9,\n",
       " 'info': {'best_ask': '10834.2',\n",
       "  'best_bid': '10834.1',\n",
       "  'instrument_id': 'BTC-USDT',\n",
       "  'product_id': 'BTC-USDT',\n",
       "  'last': '10835.1',\n",
       "  'last_qty': '0.00894883',\n",
       "  'ask': '10834.2',\n",
       "  'best_ask_size': '0.24380633',\n",
       "  'bid': '10834.1',\n",
       "  'best_bid_size': '5.84128517',\n",
       "  'open_24h': '10669.9',\n",
       "  'high_24h': '10956',\n",
       "  'low_24h': '10593.4',\n",
       "  'base_volume_24h': '33285.21823747',\n",
       "  'timestamp': '2020-09-28T07:11:37.881Z',\n",
       "  'quote_volume_24h': '358133993.9'}}"
      ]
     },
     "execution_count": 18,
     "metadata": {},
     "output_type": "execute_result"
    }
   ],
   "source": [
    "# ccxt交易所的初始化设置\n",
    "okex= ccxt.okex({'timeout': 15000,'enableRateLimit': True})\n",
    "symbol='BTC/USDT'\n",
    "okex_ticker03=okex.fetchTicker(symbol)\n",
    "okex_ticker03\n",
    "# okex_ticker04=pd.DataFrame(okex_ticker03)\n",
    "# print(okex_ticker04)"
   ]
  },
  {
   "cell_type": "code",
   "execution_count": 5,
   "metadata": {},
   "outputs": [],
   "source": [
    "# dir(okex)"
   ]
  },
  {
   "cell_type": "code",
   "execution_count": 36,
   "metadata": {
    "scrolled": true
   },
   "outputs": [
    {
     "name": "stdout",
     "output_type": "stream",
     "text": [
      "   1m   3m   5m  15m   30m    1h    2h     4h     6h    12h     1d      1w  \\\n",
      "秒  60  180  300  900  1800  3600  7200  14400  21600  43200  86400  604800   \n",
      "\n",
      "        1M       3M        6M        1y  \n",
      "秒  2678400  8035200  16070400  31536000  \n"
     ]
    }
   ],
   "source": [
    "# 交易所的数据结构\n",
    "okex.id\n",
    "okex.name\n",
    "okex.rateLimit\n",
    "okex.timeout\n",
    "\n",
    "okex.countries\n",
    "okex.has['publicAPI']\n",
    "timeframes=okex.timeframes\n",
    "timeframe=pd.DataFrame(timeframes,index=['秒'])\n",
    "print(timeframe)"
   ]
  },
  {
   "cell_type": "code",
   "execution_count": 7,
   "metadata": {},
   "outputs": [
    {
     "data": {
      "text/plain": [
       "1601263371595"
      ]
     },
     "execution_count": 7,
     "metadata": {},
     "output_type": "execute_result"
    }
   ],
   "source": [
    "okex.milliseconds()"
   ]
  },
  {
   "cell_type": "code",
   "execution_count": 8,
   "metadata": {},
   "outputs": [
    {
     "name": "stdout",
     "output_type": "stream",
     "text": [
      "交易所当前时间： 2020-09-28T03:22:51.618Z\n"
     ]
    }
   ],
   "source": [
    "print('交易所当前时间：', okex.iso8601(okex.milliseconds()))"
   ]
  },
  {
   "cell_type": "markdown",
   "metadata": {},
   "source": [
    "### 币安行情"
   ]
  },
  {
   "cell_type": "code",
   "execution_count": 9,
   "metadata": {},
   "outputs": [
    {
     "name": "stdout",
     "output_type": "stream",
     "text": [
      "                      symbol      timestamp                  datetime  \\\n",
      "askPrice            BTC/USDT  1601263353010  2020-09-28T03:22:33.010Z   \n",
      "askQty              BTC/USDT  1601263353010  2020-09-28T03:22:33.010Z   \n",
      "bidPrice            BTC/USDT  1601263353010  2020-09-28T03:22:33.010Z   \n",
      "bidQty              BTC/USDT  1601263353010  2020-09-28T03:22:33.010Z   \n",
      "closeTime           BTC/USDT  1601263353010  2020-09-28T03:22:33.010Z   \n",
      "count               BTC/USDT  1601263353010  2020-09-28T03:22:33.010Z   \n",
      "firstId             BTC/USDT  1601263353010  2020-09-28T03:22:33.010Z   \n",
      "highPrice           BTC/USDT  1601263353010  2020-09-28T03:22:33.010Z   \n",
      "lastId              BTC/USDT  1601263353010  2020-09-28T03:22:33.010Z   \n",
      "lastPrice           BTC/USDT  1601263353010  2020-09-28T03:22:33.010Z   \n",
      "lastQty             BTC/USDT  1601263353010  2020-09-28T03:22:33.010Z   \n",
      "lowPrice            BTC/USDT  1601263353010  2020-09-28T03:22:33.010Z   \n",
      "openPrice           BTC/USDT  1601263353010  2020-09-28T03:22:33.010Z   \n",
      "openTime            BTC/USDT  1601263353010  2020-09-28T03:22:33.010Z   \n",
      "prevClosePrice      BTC/USDT  1601263353010  2020-09-28T03:22:33.010Z   \n",
      "priceChange         BTC/USDT  1601263353010  2020-09-28T03:22:33.010Z   \n",
      "priceChangePercent  BTC/USDT  1601263353010  2020-09-28T03:22:33.010Z   \n",
      "quoteVolume         BTC/USDT  1601263353010  2020-09-28T03:22:33.010Z   \n",
      "symbol              BTC/USDT  1601263353010  2020-09-28T03:22:33.010Z   \n",
      "volume              BTC/USDT  1601263353010  2020-09-28T03:22:33.010Z   \n",
      "weightedAvgPrice    BTC/USDT  1601263353010  2020-09-28T03:22:33.010Z   \n",
      "\n",
      "                       high       low       bid  bidVolume       ask  \\\n",
      "askPrice            10950.0  10594.82  10891.95   1.640168  10891.96   \n",
      "askQty              10950.0  10594.82  10891.95   1.640168  10891.96   \n",
      "bidPrice            10950.0  10594.82  10891.95   1.640168  10891.96   \n",
      "bidQty              10950.0  10594.82  10891.95   1.640168  10891.96   \n",
      "closeTime           10950.0  10594.82  10891.95   1.640168  10891.96   \n",
      "count               10950.0  10594.82  10891.95   1.640168  10891.96   \n",
      "firstId             10950.0  10594.82  10891.95   1.640168  10891.96   \n",
      "highPrice           10950.0  10594.82  10891.95   1.640168  10891.96   \n",
      "lastId              10950.0  10594.82  10891.95   1.640168  10891.96   \n",
      "lastPrice           10950.0  10594.82  10891.95   1.640168  10891.96   \n",
      "lastQty             10950.0  10594.82  10891.95   1.640168  10891.96   \n",
      "lowPrice            10950.0  10594.82  10891.95   1.640168  10891.96   \n",
      "openPrice           10950.0  10594.82  10891.95   1.640168  10891.96   \n",
      "openTime            10950.0  10594.82  10891.95   1.640168  10891.96   \n",
      "prevClosePrice      10950.0  10594.82  10891.95   1.640168  10891.96   \n",
      "priceChange         10950.0  10594.82  10891.95   1.640168  10891.96   \n",
      "priceChangePercent  10950.0  10594.82  10891.95   1.640168  10891.96   \n",
      "quoteVolume         10950.0  10594.82  10891.95   1.640168  10891.96   \n",
      "symbol              10950.0  10594.82  10891.95   1.640168  10891.96   \n",
      "volume              10950.0  10594.82  10891.95   1.640168  10891.96   \n",
      "weightedAvgPrice    10950.0  10594.82  10891.95   1.640168  10891.96   \n",
      "\n",
      "                    askVolume          vwap      open     close      last  \\\n",
      "askPrice             0.387535  10748.158562  10767.98  10891.96  10891.96   \n",
      "askQty               0.387535  10748.158562  10767.98  10891.96  10891.96   \n",
      "bidPrice             0.387535  10748.158562  10767.98  10891.96  10891.96   \n",
      "bidQty               0.387535  10748.158562  10767.98  10891.96  10891.96   \n",
      "closeTime            0.387535  10748.158562  10767.98  10891.96  10891.96   \n",
      "count                0.387535  10748.158562  10767.98  10891.96  10891.96   \n",
      "firstId              0.387535  10748.158562  10767.98  10891.96  10891.96   \n",
      "highPrice            0.387535  10748.158562  10767.98  10891.96  10891.96   \n",
      "lastId               0.387535  10748.158562  10767.98  10891.96  10891.96   \n",
      "lastPrice            0.387535  10748.158562  10767.98  10891.96  10891.96   \n",
      "lastQty              0.387535  10748.158562  10767.98  10891.96  10891.96   \n",
      "lowPrice             0.387535  10748.158562  10767.98  10891.96  10891.96   \n",
      "openPrice            0.387535  10748.158562  10767.98  10891.96  10891.96   \n",
      "openTime             0.387535  10748.158562  10767.98  10891.96  10891.96   \n",
      "prevClosePrice       0.387535  10748.158562  10767.98  10891.96  10891.96   \n",
      "priceChange          0.387535  10748.158562  10767.98  10891.96  10891.96   \n",
      "priceChangePercent   0.387535  10748.158562  10767.98  10891.96  10891.96   \n",
      "quoteVolume          0.387535  10748.158562  10767.98  10891.96  10891.96   \n",
      "symbol               0.387535  10748.158562  10767.98  10891.96  10891.96   \n",
      "volume               0.387535  10748.158562  10767.98  10891.96  10891.96   \n",
      "weightedAvgPrice     0.387535  10748.158562  10767.98  10891.96  10891.96   \n",
      "\n",
      "                    previousClose  change  percentage average    baseVolume  \\\n",
      "askPrice                 10767.98  123.98       1.151    None  35286.069225   \n",
      "askQty                   10767.98  123.98       1.151    None  35286.069225   \n",
      "bidPrice                 10767.98  123.98       1.151    None  35286.069225   \n",
      "bidQty                   10767.98  123.98       1.151    None  35286.069225   \n",
      "closeTime                10767.98  123.98       1.151    None  35286.069225   \n",
      "count                    10767.98  123.98       1.151    None  35286.069225   \n",
      "firstId                  10767.98  123.98       1.151    None  35286.069225   \n",
      "highPrice                10767.98  123.98       1.151    None  35286.069225   \n",
      "lastId                   10767.98  123.98       1.151    None  35286.069225   \n",
      "lastPrice                10767.98  123.98       1.151    None  35286.069225   \n",
      "lastQty                  10767.98  123.98       1.151    None  35286.069225   \n",
      "lowPrice                 10767.98  123.98       1.151    None  35286.069225   \n",
      "openPrice                10767.98  123.98       1.151    None  35286.069225   \n",
      "openTime                 10767.98  123.98       1.151    None  35286.069225   \n",
      "prevClosePrice           10767.98  123.98       1.151    None  35286.069225   \n",
      "priceChange              10767.98  123.98       1.151    None  35286.069225   \n",
      "priceChangePercent       10767.98  123.98       1.151    None  35286.069225   \n",
      "quoteVolume              10767.98  123.98       1.151    None  35286.069225   \n",
      "symbol                   10767.98  123.98       1.151    None  35286.069225   \n",
      "volume                   10767.98  123.98       1.151    None  35286.069225   \n",
      "weightedAvgPrice         10767.98  123.98       1.151    None  35286.069225   \n",
      "\n",
      "                     quoteVolume                info  \n",
      "askPrice            3.792603e+08      10891.96000000  \n",
      "askQty              3.792603e+08          0.38753500  \n",
      "bidPrice            3.792603e+08      10891.95000000  \n",
      "bidQty              3.792603e+08          1.64016800  \n",
      "closeTime           3.792603e+08       1601263353010  \n",
      "count               3.792603e+08              552106  \n",
      "firstId             3.792603e+08           423599276  \n",
      "highPrice           3.792603e+08      10950.00000000  \n",
      "lastId              3.792603e+08           424151381  \n",
      "lastPrice           3.792603e+08      10891.96000000  \n",
      "lastQty             3.792603e+08          0.00601100  \n",
      "lowPrice            3.792603e+08      10594.82000000  \n",
      "openPrice           3.792603e+08      10767.98000000  \n",
      "openTime            3.792603e+08       1601176953010  \n",
      "prevClosePrice      3.792603e+08      10767.98000000  \n",
      "priceChange         3.792603e+08        123.98000000  \n",
      "priceChangePercent  3.792603e+08               1.151  \n",
      "quoteVolume         3.792603e+08  379260267.04663086  \n",
      "symbol              3.792603e+08             BTCUSDT  \n",
      "volume              3.792603e+08      35286.06922500  \n",
      "weightedAvgPrice    3.792603e+08      10748.15856162  \n"
     ]
    }
   ],
   "source": [
    "bina= ccxt.binance({'timeout': 15000,'enableRateLimit': True})\n",
    "\n",
    "symbol='BTC/USDT'\n",
    "bina_ticker=bina.fetchTicker(symbol)\n",
    "bina_ticker01=pd.DataFrame(bina_ticker)\n",
    "print(bina_ticker01)"
   ]
  },
  {
   "cell_type": "markdown",
   "metadata": {},
   "source": [
    "### Markets"
   ]
  },
  {
   "cell_type": "code",
   "execution_count": 10,
   "metadata": {},
   "outputs": [],
   "source": [
    "market=okex.load_markets()\n",
    "#print(market)\n",
    "okex_market=pd.DataFrame(market)\n",
    "#print(okex_market)"
   ]
  },
  {
   "cell_type": "code",
   "execution_count": 11,
   "metadata": {},
   "outputs": [],
   "source": [
    "# 该交易所支持的交易对\n",
    "#list(market.keys())"
   ]
  },
  {
   "cell_type": "code",
   "execution_count": 12,
   "metadata": {},
   "outputs": [
    {
     "data": {
      "text/plain": [
       "{'percentage': True,\n",
       " 'taker': 0.0015,\n",
       " 'maker': 0.001,\n",
       " 'precision': {'amount': 1e-06, 'price': 0.01},\n",
       " 'limits': {'amount': {'min': 0.01, 'max': None},\n",
       "  'price': {'min': 0.01, 'max': None},\n",
       "  'cost': {'min': 0.01, 'max': None}},\n",
       " 'id': 'ETH-USDT',\n",
       " 'symbol': 'ETH/USDT',\n",
       " 'base': 'ETH',\n",
       " 'quote': 'USDT',\n",
       " 'baseId': 'ETH',\n",
       " 'quoteId': 'USDT',\n",
       " 'info': {'base_currency': 'ETH',\n",
       "  'category': '1',\n",
       "  'instrument_id': 'ETH-USDT',\n",
       "  'min_size': '0.01',\n",
       "  'quote_currency': 'USDT',\n",
       "  'size_increment': '0.000001',\n",
       "  'tick_size': '0.01'},\n",
       " 'type': 'spot',\n",
       " 'spot': True,\n",
       " 'futures': False,\n",
       " 'swap': False,\n",
       " 'option': False,\n",
       " 'active': True}"
      ]
     },
     "execution_count": 12,
     "metadata": {},
     "output_type": "execute_result"
    }
   ],
   "source": [
    "# 获取指定[交易对]市场信息\n",
    "market=okex.load_markets()\n",
    "symbol='ETH/USDT'\n",
    "eth_market=market[symbol]\n",
    "eth_market"
   ]
  },
  {
   "cell_type": "code",
   "execution_count": 16,
   "metadata": {},
   "outputs": [
    {
     "data": {
      "text/plain": [
       "{'symbol': 'ETH/USDT',\n",
       " 'timestamp': 1601263634513,\n",
       " 'datetime': '2020-09-28T03:27:14.513Z',\n",
       " 'high': 362.19,\n",
       " 'low': 347.21,\n",
       " 'bid': 357.53,\n",
       " 'bidVolume': 2.0,\n",
       " 'ask': 357.54,\n",
       " 'askVolume': 30.0,\n",
       " 'vwap': None,\n",
       " 'open': 359.25,\n",
       " 'close': 357.54,\n",
       " 'last': 357.54,\n",
       " 'previousClose': None,\n",
       " 'change': None,\n",
       " 'percentage': None,\n",
       " 'average': None,\n",
       " 'baseVolume': 203025.052086,\n",
       " 'quoteVolume': 72118390.64,\n",
       " 'info': {'best_ask': '357.54',\n",
       "  'best_bid': '357.53',\n",
       "  'instrument_id': 'ETH-USDT',\n",
       "  'product_id': 'ETH-USDT',\n",
       "  'last': '357.54',\n",
       "  'last_qty': '0.3',\n",
       "  'ask': '357.54',\n",
       "  'best_ask_size': '30',\n",
       "  'bid': '357.53',\n",
       "  'best_bid_size': '2',\n",
       "  'open_24h': '359.25',\n",
       "  'high_24h': '362.19',\n",
       "  'low_24h': '347.21',\n",
       "  'base_volume_24h': '203025.052086',\n",
       "  'timestamp': '2020-09-28T03:27:14.513Z',\n",
       "  'quote_volume_24h': '72118390.64'}}"
      ]
     },
     "execution_count": 16,
     "metadata": {},
     "output_type": "execute_result"
    }
   ],
   "source": [
    "ticker=okex.fetchTicker('ETH/USDT')\n",
    "ticker"
   ]
  },
  {
   "cell_type": "code",
   "execution_count": 23,
   "metadata": {},
   "outputs": [
    {
     "data": {
      "text/plain": [
       "'2020-09-28T03:27:14.513Z'"
      ]
     },
     "execution_count": 23,
     "metadata": {},
     "output_type": "execute_result"
    }
   ],
   "source": [
    "ticker['last']\n",
    "ticker['timestamp']\n",
    "ticker['datetime']"
   ]
  },
  {
   "cell_type": "code",
   "execution_count": 25,
   "metadata": {},
   "outputs": [
    {
     "data": {
      "text/plain": [
       "'2020-09-28T03:27:14.513Z'"
      ]
     },
     "execution_count": 25,
     "metadata": {},
     "output_type": "execute_result"
    }
   ],
   "source": [
    "# 时间操作\n",
    "# 转换UTC时间\n",
    "okex.iso8601(ticker['timestamp'])"
   ]
  },
  {
   "cell_type": "code",
   "execution_count": 38,
   "metadata": {},
   "outputs": [
    {
     "data": {
      "text/plain": [
       "{}"
      ]
     },
     "execution_count": 38,
     "metadata": {},
     "output_type": "execute_result"
    }
   ],
   "source": [
    "# 获取多个交易对ticker数据\n",
    "bina=ccxt.binance()\n",
    "tickers=bina.fetchTickers(['ETH/USD','BTC/USD'])\n",
    "tickers"
   ]
  },
  {
   "cell_type": "code",
   "execution_count": null,
   "metadata": {},
   "outputs": [],
   "source": []
  }
 ],
 "metadata": {
  "kernelspec": {
   "display_name": "Python 3",
   "language": "python",
   "name": "python3"
  },
  "language_info": {
   "codemirror_mode": {
    "name": "ipython",
    "version": 3
   },
   "file_extension": ".py",
   "mimetype": "text/x-python",
   "name": "python",
   "nbconvert_exporter": "python",
   "pygments_lexer": "ipython3",
   "version": "3.7.6"
  }
 },
 "nbformat": 4,
 "nbformat_minor": 4
}
